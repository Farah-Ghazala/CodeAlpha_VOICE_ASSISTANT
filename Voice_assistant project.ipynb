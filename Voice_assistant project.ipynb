# Importing libraries
import speech_recognition as sr
import pyttsx3
import datetime
import subprocess

# Initialize speech recognizer and engine
recognizer = sr.Recognizer()
engine = pyttsx3.init()

# Function to speak out the given text
def speak(text):
    engine.say(text)
    engine.runAndWait()

# Function to recognize speech
def listen():
    with sr.Microphone() as source:
        print("Listening...")
        recognizer.adjust_for_ambient_noise(source)
        audio = recognizer.listen(source)

        try:
            print("Recognizing...")
            query = recognizer.recognize_google(audio)
            print("You said:", query)
            return query.lower()
        except sr.UnknownValueError:
            print("Sorry, I didn't get that.")
            return ""
        except sr.RequestError as e:
            print("Could not request results; {0}".format(e))
            return ""

# Function to set reminder
def set_reminder():
    speak("What do you want to be reminded about?")
    reminder_text = listen()
    if reminder_text:
        speak("When should I remind you?")
        time = listen()
        if time:
            speak(f"Reminder set for {time}.")
            

# Function to create to-do list
def create_todo():
    speak("What task do you want to add to your to-do list?")
    task = listen()
    if task:
        with open("todo_list.txt", "a") as f:
            f.write(task + "\n")
        speak("Task added to your to-do list.")

# Function to open google
def open_google():
    speak("opening google!")
    engine.runAndWait()
    program = r"C:\Users\FreeComp\Downloads\Programs\ChromeSetup.exe"
    subprocess.Popen([program])
    
# Function to get time      
def get_time():
    now = datetime.datetime.now()
    hour = now .strftime("%I")
    minute = now.strftime("%M")
    am_pm = now.strftime("%p")
    speak(f"The time is {hour}:{minute} {am_pm}.")

#Function to Get the name of the assistant
def get_name():
    speak("My name is Amigo")

# Main function
def main():
    speak("Hi! How can I assist you today?")

    while True:
        command = listen()

        if "reminder" in command:
            set_reminder()
        elif "name" in command:
            get_name()
        elif "hello" in command or "hi" in command:
            speak("hello")
        elif "to-do list" in command:
            create_todo()
        elif "google" in command:
            open_google()
        elif "time" in command:
            get_time()
        elif "goodbye" in command:
            speak("Goodbye!")
            break
        else:
            speak("Sorry, I didn't understand that. Can you repeat?")

if __name__ == "__main__":
    main()
